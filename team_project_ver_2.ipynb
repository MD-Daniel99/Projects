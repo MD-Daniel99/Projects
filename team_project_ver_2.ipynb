{
  "nbformat": 4,
  "nbformat_minor": 0,
  "metadata": {
    "colab": {
      "provenance": [],
      "authorship_tag": "ABX9TyOIGtnClDD20PppiBloIViG",
      "include_colab_link": true
    },
    "kernelspec": {
      "name": "python3",
      "display_name": "Python 3"
    },
    "language_info": {
      "name": "python"
    }
  },
  "cells": [
    {
      "cell_type": "markdown",
      "metadata": {
        "id": "view-in-github",
        "colab_type": "text"
      },
      "source": [
        "<a href=\"https://colab.research.google.com/github/MD-Daniel99/Projects/blob/main/team_project_ver_2.ipynb\" target=\"_parent\"><img src=\"https://colab.research.google.com/assets/colab-badge.svg\" alt=\"Open In Colab\"/></a>"
      ]
    },
    {
      "cell_type": "code",
      "execution_count": 1,
      "metadata": {
        "id": "8AfzgYfC7TCd",
        "colab": {
          "base_uri": "https://localhost:8080/"
        },
        "outputId": "df345197-6e3d-4e65-b94d-e3a873a6418b"
      },
      "outputs": [
        {
          "output_type": "stream",
          "name": "stdout",
          "text": [
            "Collecting sentencepiece\n",
            "  Downloading sentencepiece-0.1.99-cp310-cp310-manylinux_2_17_x86_64.manylinux2014_x86_64.whl (1.3 MB)\n",
            "\u001b[2K     \u001b[90m━━━━━━━━━━━━━━━━━━━━━━━━━━━━━━━━━━━━━━━━\u001b[0m \u001b[32m1.3/1.3 MB\u001b[0m \u001b[31m6.6 MB/s\u001b[0m eta \u001b[36m0:00:00\u001b[0m\n",
            "\u001b[?25hCollecting sacremoses\n",
            "  Downloading sacremoses-0.1.1-py3-none-any.whl (897 kB)\n",
            "\u001b[2K     \u001b[90m━━━━━━━━━━━━━━━━━━━━━━━━━━━━━━━━━━━━━━━━\u001b[0m \u001b[32m897.5/897.5 kB\u001b[0m \u001b[31m52.3 MB/s\u001b[0m eta \u001b[36m0:00:00\u001b[0m\n",
            "\u001b[?25hRequirement already satisfied: transformers in /usr/local/lib/python3.10/dist-packages (4.35.2)\n",
            "Requirement already satisfied: regex in /usr/local/lib/python3.10/dist-packages (from sacremoses) (2023.6.3)\n",
            "Requirement already satisfied: click in /usr/local/lib/python3.10/dist-packages (from sacremoses) (8.1.7)\n",
            "Requirement already satisfied: joblib in /usr/local/lib/python3.10/dist-packages (from sacremoses) (1.3.2)\n",
            "Requirement already satisfied: tqdm in /usr/local/lib/python3.10/dist-packages (from sacremoses) (4.66.1)\n",
            "Requirement already satisfied: filelock in /usr/local/lib/python3.10/dist-packages (from transformers) (3.13.1)\n",
            "Requirement already satisfied: huggingface-hub<1.0,>=0.16.4 in /usr/local/lib/python3.10/dist-packages (from transformers) (0.19.4)\n",
            "Requirement already satisfied: numpy>=1.17 in /usr/local/lib/python3.10/dist-packages (from transformers) (1.23.5)\n",
            "Requirement already satisfied: packaging>=20.0 in /usr/local/lib/python3.10/dist-packages (from transformers) (23.2)\n",
            "Requirement already satisfied: pyyaml>=5.1 in /usr/local/lib/python3.10/dist-packages (from transformers) (6.0.1)\n",
            "Requirement already satisfied: requests in /usr/local/lib/python3.10/dist-packages (from transformers) (2.31.0)\n",
            "Requirement already satisfied: tokenizers<0.19,>=0.14 in /usr/local/lib/python3.10/dist-packages (from transformers) (0.15.0)\n",
            "Requirement already satisfied: safetensors>=0.3.1 in /usr/local/lib/python3.10/dist-packages (from transformers) (0.4.1)\n",
            "Requirement already satisfied: fsspec>=2023.5.0 in /usr/local/lib/python3.10/dist-packages (from huggingface-hub<1.0,>=0.16.4->transformers) (2023.6.0)\n",
            "Requirement already satisfied: typing-extensions>=3.7.4.3 in /usr/local/lib/python3.10/dist-packages (from huggingface-hub<1.0,>=0.16.4->transformers) (4.5.0)\n",
            "Requirement already satisfied: charset-normalizer<4,>=2 in /usr/local/lib/python3.10/dist-packages (from requests->transformers) (3.3.2)\n",
            "Requirement already satisfied: idna<4,>=2.5 in /usr/local/lib/python3.10/dist-packages (from requests->transformers) (3.6)\n",
            "Requirement already satisfied: urllib3<3,>=1.21.1 in /usr/local/lib/python3.10/dist-packages (from requests->transformers) (2.0.7)\n",
            "Requirement already satisfied: certifi>=2017.4.17 in /usr/local/lib/python3.10/dist-packages (from requests->transformers) (2023.11.17)\n",
            "Installing collected packages: sentencepiece, sacremoses\n",
            "Successfully installed sacremoses-0.1.1 sentencepiece-0.1.99\n",
            "Collecting python-docx\n",
            "  Downloading python_docx-1.1.0-py3-none-any.whl (239 kB)\n",
            "\u001b[2K     \u001b[90m━━━━━━━━━━━━━━━━━━━━━━━━━━━━━━━━━━━━━━━━\u001b[0m \u001b[32m239.6/239.6 kB\u001b[0m \u001b[31m1.7 MB/s\u001b[0m eta \u001b[36m0:00:00\u001b[0m\n",
            "\u001b[?25hRequirement already satisfied: lxml>=3.1.0 in /usr/local/lib/python3.10/dist-packages (from python-docx) (4.9.3)\n",
            "Requirement already satisfied: typing-extensions in /usr/local/lib/python3.10/dist-packages (from python-docx) (4.5.0)\n",
            "Installing collected packages: python-docx\n",
            "Successfully installed python-docx-1.1.0\n",
            "Collecting pdfminer.six\n",
            "  Downloading pdfminer.six-20221105-py3-none-any.whl (5.6 MB)\n",
            "\u001b[2K     \u001b[90m━━━━━━━━━━━━━━━━━━━━━━━━━━━━━━━━━━━━━━━━\u001b[0m \u001b[32m5.6/5.6 MB\u001b[0m \u001b[31m20.2 MB/s\u001b[0m eta \u001b[36m0:00:00\u001b[0m\n",
            "\u001b[?25hRequirement already satisfied: charset-normalizer>=2.0.0 in /usr/local/lib/python3.10/dist-packages (from pdfminer.six) (3.3.2)\n",
            "Requirement already satisfied: cryptography>=36.0.0 in /usr/local/lib/python3.10/dist-packages (from pdfminer.six) (41.0.7)\n",
            "Requirement already satisfied: cffi>=1.12 in /usr/local/lib/python3.10/dist-packages (from cryptography>=36.0.0->pdfminer.six) (1.16.0)\n",
            "Requirement already satisfied: pycparser in /usr/local/lib/python3.10/dist-packages (from cffi>=1.12->cryptography>=36.0.0->pdfminer.six) (2.21)\n",
            "Installing collected packages: pdfminer.six\n",
            "Successfully installed pdfminer.six-20221105\n"
          ]
        }
      ],
      "source": [
        "!pip3 install sentencepiece sacremoses transformers\n",
        "!pip install --upgrade python-docx\n",
        "!pip3 install --upgrade pdfminer.six\n",
        "\n",
        "from transformers import pipeline\n",
        "from transformers import AutoTokenizer\n",
        "\n",
        "from docx import Document\n",
        "from pdfminer.high_level import extract_text"
      ]
    },
    {
      "cell_type": "markdown",
      "source": [
        "## File type recognition"
      ],
      "metadata": {
        "id": "6oFlgd-KHjin"
      }
    },
    {
      "cell_type": "code",
      "source": [
        "filename = \"/content/Black_body_radiation(test.docx\""
      ],
      "metadata": {
        "id": "wIJBxG4RnPHX"
      },
      "execution_count": 2,
      "outputs": []
    },
    {
      "cell_type": "code",
      "source": [
        "def filetype_recognition(filename):\n",
        "  if filename.lower().endswith('.docx'):\n",
        "    return docx_reader(filename)\n",
        "  elif filename.lower().endswith('.pdf'):\n",
        "    return pdf_reader(filename)\n",
        "  elif filename.lower().endswith('.txt'):\n",
        "    return txt_reader(filename)\n",
        "  else:\n",
        "    raise ValueError(\"Unsupported file format. Please, make sure you download .docx, .pdf or .txt.\")"
      ],
      "metadata": {
        "id": "VFBRpaEhHkKQ"
      },
      "execution_count": 3,
      "outputs": []
    },
    {
      "cell_type": "markdown",
      "source": [
        "## .docx reader"
      ],
      "metadata": {
        "id": "bjT3sqHDETqA"
      }
    },
    {
      "cell_type": "code",
      "source": [
        "def docx_reader(filename):\n",
        "  doc = Document(filename)\n",
        "  text = \"\\n\".join([paragraph.text for paragraph in doc.paragraphs])\n",
        "  str(text)\n",
        "  return text"
      ],
      "metadata": {
        "id": "jGYGVbX2WA0Q"
      },
      "execution_count": 4,
      "outputs": []
    },
    {
      "cell_type": "markdown",
      "source": [
        "## .pdf reader\n"
      ],
      "metadata": {
        "id": "iwMn0UH4EZQL"
      }
    },
    {
      "cell_type": "code",
      "source": [
        "def pdf_reader(filename):\n",
        "  text = extract_text(filename)\n",
        "  str(text)\n",
        "  return text"
      ],
      "metadata": {
        "id": "ZCn2rs_0EgB2"
      },
      "execution_count": 5,
      "outputs": []
    },
    {
      "cell_type": "markdown",
      "source": [
        "## .txt reader"
      ],
      "metadata": {
        "id": "uSI9Ucdr6bUc"
      }
    },
    {
      "cell_type": "code",
      "source": [
        "def txt_reader(filename):\n",
        "  with open(filename, 'r') as file_object:\n",
        "    text = file_object.read()\n",
        "    str(text)\n",
        "  return text"
      ],
      "metadata": {
        "id": "LD1hhmUY5q0g"
      },
      "execution_count": 6,
      "outputs": []
    },
    {
      "cell_type": "markdown",
      "source": [
        "## Summary model start-up"
      ],
      "metadata": {
        "id": "XcyV8RaCD0aP"
      }
    },
    {
      "cell_type": "code",
      "source": [
        "def trim_text_to_token_limit(content, max_token_limit = 512, model_name=\"Falconsai/text_summarization\"):\n",
        "    # Загрузка токенизатора для заданной модели\n",
        "    tokenizer = AutoTokenizer.from_pretrained(model_name)\n",
        "\n",
        "    # Токенизация текста\n",
        "    tokens = tokenizer.tokenize(tokenizer.decode(tokenizer.encode(content)))\n",
        "\n",
        "    # Обрезка текста до заданного количества токенов\n",
        "    trimmed_tokens = tokens[:max_token_limit]\n",
        "\n",
        "    # Обратная токенизация для получения текста\n",
        "    trimmed_text = tokenizer.decode(tokenizer.convert_tokens_to_ids(trimmed_tokens))\n",
        "\n",
        "    return trimmed_text"
      ],
      "metadata": {
        "id": "c-xhZ1XjFrNZ"
      },
      "execution_count": 7,
      "outputs": []
    },
    {
      "cell_type": "code",
      "source": [
        "def summary_model(contents, trimmed_text):\n",
        "  #contents = pipeline('summarization', model = \"Falconsai/text_summarization\")\n",
        "  summarised_text = contents(trimmed_text, min_length = 70)[0]\n",
        "  return summarised_text['summary_text'] # тип данных = строка"
      ],
      "metadata": {
        "id": "lV9rcfd4EGve"
      },
      "execution_count": 18,
      "outputs": []
    },
    {
      "cell_type": "markdown",
      "source": [
        "## En-Ru translation model start-up"
      ],
      "metadata": {
        "id": "GiAqR0QBLR1U"
      }
    },
    {
      "cell_type": "code",
      "source": [
        "def model_loading():\n",
        "  classifier = pipeline(\"translation_en_to_ru\", model = \"Helsinki-NLP/opus-mt-en-ru\")\n",
        "  contents = pipeline('summarization', model = \"Falconsai/text_summarization\")\n",
        "  return classifier, contents"
      ],
      "metadata": {
        "id": "IrioyqgaGJrr"
      },
      "execution_count": 9,
      "outputs": []
    },
    {
      "cell_type": "code",
      "source": [
        "def translation(classifier, summary):\n",
        "  sentences = summary.split('. ')\n",
        "  translated_sentences = [classifier(sentence)[0]['translation_text'] for sentence in sentences]\n",
        "  return '. '.join(translated_sentences)"
      ],
      "metadata": {
        "id": "vLlHh29mILVU"
      },
      "execution_count": 10,
      "outputs": []
    },
    {
      "cell_type": "code",
      "source": [
        "def printing(translated):\n",
        "  output_file = '/content/processed_text.txt'\n",
        "  with open(output_file, 'w') as file:\n",
        "    file.write(translated)"
      ],
      "metadata": {
        "id": "XG7az3gcOhzU"
      },
      "execution_count": 20,
      "outputs": []
    },
    {
      "cell_type": "code",
      "source": [
        "def file_preprocessing(filename):\n",
        "    file_content = filetype_recognition(filename)\n",
        "    return file_content.rstrip()"
      ],
      "metadata": {
        "id": "3FU8sBkVA6QN"
      },
      "execution_count": 12,
      "outputs": []
    },
    {
      "cell_type": "code",
      "source": [
        "def main():\n",
        "  try:\n",
        "    classifier, contents = model_loading()\n",
        "    content = file_preprocessing(filename)\n",
        "    trimmed_text = trim_text_to_token_limit(content)\n",
        "    summary = summary_model(contents, trimmed_text) # МОДЕЛЬ номер 1 - резюме\n",
        "    prediction = translation(classifier, summary) # МОДЕЛЬ номер 2 - перевод\n",
        "    printing(prediction)\n",
        "\n",
        "  except ValueError as ve:\n",
        "    print(ve)\n",
        "    return\n",
        "\n",
        "if __name__ == \"__main__\":\n",
        "    main()"
      ],
      "metadata": {
        "id": "iel3fChfG3VS",
        "colab": {
          "base_uri": "https://localhost:8080/"
        },
        "outputId": "0e76572e-408c-4175-d859-ccaa52ff7b42"
      },
      "execution_count": 21,
      "outputs": [
        {
          "output_type": "stream",
          "name": "stderr",
          "text": [
            "Token indices sequence length is longer than the specified maximum sequence length for this model (516 > 512). Running this sequence through the model will result in indexing errors\n",
            "Token indices sequence length is longer than the specified maximum sequence length for this model (515 > 512). Running this sequence through the model will result in indexing errors\n"
          ]
        }
      ]
    },
    {
      "cell_type": "code",
      "source": [
        "main()"
      ],
      "metadata": {
        "colab": {
          "base_uri": "https://localhost:8080/"
        },
        "id": "YiTwN00rxM0W",
        "outputId": "3608c128-b045-458d-886b-aaa97a148188"
      },
      "execution_count": 22,
      "outputs": [
        {
          "output_type": "stream",
          "name": "stderr",
          "text": [
            "Token indices sequence length is longer than the specified maximum sequence length for this model (516 > 512). Running this sequence through the model will result in indexing errors\n",
            "Token indices sequence length is longer than the specified maximum sequence length for this model (515 > 512). Running this sequence through the model will result in indexing errors\n"
          ]
        }
      ]
    }
  ]
}