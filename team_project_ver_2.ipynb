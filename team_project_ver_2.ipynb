{
  "nbformat": 4,
  "nbformat_minor": 0,
  "metadata": {
    "colab": {
      "provenance": [],
      "authorship_tag": "ABX9TyMeXm9l21HjcbLfK+7fcwfj",
      "include_colab_link": true
    },
    "kernelspec": {
      "name": "python3",
      "display_name": "Python 3"
    },
    "language_info": {
      "name": "python"
    }
  },
  "cells": [
    {
      "cell_type": "markdown",
      "metadata": {
        "id": "view-in-github",
        "colab_type": "text"
      },
      "source": [
        "<a href=\"https://colab.research.google.com/github/MD-Daniel99/Projects/blob/main/team_project_ver_2.ipynb\" target=\"_parent\"><img src=\"https://colab.research.google.com/assets/colab-badge.svg\" alt=\"Open In Colab\"/></a>"
      ]
    },
    {
      "cell_type": "code",
      "execution_count": null,
      "metadata": {
        "id": "8AfzgYfC7TCd"
      },
      "outputs": [],
      "source": [
        "!pip3 install sentencepiece sacremoses transformers langid\n",
        "!pip install --upgrade python-docx\n",
        "!pip install --upgrade pdfminer.six\n",
        "\n",
        "import langid\n",
        "from transformers import pipeline\n",
        "from transformers import AutoTokenizer\n",
        "\n",
        "from docx import Document\n",
        "from pdfminer.high_level import extract_text"
      ]
    },
    {
      "cell_type": "markdown",
      "source": [
        "## File type recognition"
      ],
      "metadata": {
        "id": "6oFlgd-KHjin"
      }
    },
    {
      "cell_type": "code",
      "source": [
        "filename = \"/content/Black_body_radiation(test.docx\""
      ],
      "metadata": {
        "id": "wIJBxG4RnPHX"
      },
      "execution_count": 2,
      "outputs": []
    },
    {
      "cell_type": "code",
      "source": [
        "def filetype_recognition(filename):\n",
        "  if filename.lower().endswith('.docx'):\n",
        "    return docx_reader(filename)\n",
        "  elif filename.lower().endswith('.pdf'):\n",
        "    return pdf_reader(filename)\n",
        "  elif filename.lower().endswith('.txt'):\n",
        "    return txt_reader(filename)\n",
        "  else:\n",
        "    raise ValueError(\"Unsupported file format. Please, make sure you download .docx, .pdf or .txt.\")"
      ],
      "metadata": {
        "id": "VFBRpaEhHkKQ"
      },
      "execution_count": 3,
      "outputs": []
    },
    {
      "cell_type": "markdown",
      "source": [
        "## .docx reader"
      ],
      "metadata": {
        "id": "bjT3sqHDETqA"
      }
    },
    {
      "cell_type": "code",
      "source": [
        "def docx_reader(filename):\n",
        "  doc = Document(filename)\n",
        "  text = \"\\n\".join([paragraph.text for paragraph in doc.paragraphs])\n",
        "  str(text)\n",
        "  return text"
      ],
      "metadata": {
        "id": "jGYGVbX2WA0Q"
      },
      "execution_count": 4,
      "outputs": []
    },
    {
      "cell_type": "markdown",
      "source": [
        "## .pdf reader\n"
      ],
      "metadata": {
        "id": "iwMn0UH4EZQL"
      }
    },
    {
      "cell_type": "code",
      "source": [
        "def pdf_reader(filename):\n",
        "  text = extract_text(filename)\n",
        "  str(text)\n",
        "  return text"
      ],
      "metadata": {
        "id": "ZCn2rs_0EgB2"
      },
      "execution_count": 5,
      "outputs": []
    },
    {
      "cell_type": "markdown",
      "source": [
        "## .txt reader"
      ],
      "metadata": {
        "id": "uSI9Ucdr6bUc"
      }
    },
    {
      "cell_type": "code",
      "source": [
        "def txt_reader(filename):\n",
        "  with open(filename, 'r') as file_object:\n",
        "    text = file_object.read()\n",
        "    str(text)\n",
        "  return text"
      ],
      "metadata": {
        "id": "LD1hhmUY5q0g"
      },
      "execution_count": 6,
      "outputs": []
    },
    {
      "cell_type": "markdown",
      "source": [
        "## Summary model start-up"
      ],
      "metadata": {
        "id": "XcyV8RaCD0aP"
      }
    },
    {
      "cell_type": "code",
      "source": [
        "def trim_text_to_token_limit(content, max_token_limit = 512, model_name=\"Falconsai/text_summarization\"):\n",
        "    # Загрузка токенизатора для заданной модели\n",
        "    tokenizer = AutoTokenizer.from_pretrained(model_name)\n",
        "\n",
        "    # Токенизация текста\n",
        "    tokens = tokenizer.tokenize(tokenizer.decode(tokenizer.encode(content)))\n",
        "\n",
        "    # Обрезка текста до заданного количества токенов\n",
        "    trimmed_tokens = tokens[:max_token_limit]\n",
        "\n",
        "    # Обратная токенизация для получения текста\n",
        "    trimmed_text = tokenizer.decode(tokenizer.convert_tokens_to_ids(trimmed_tokens))\n",
        "\n",
        "    return trimmed_text"
      ],
      "metadata": {
        "id": "c-xhZ1XjFrNZ"
      },
      "execution_count": 15,
      "outputs": []
    },
    {
      "cell_type": "code",
      "source": [
        "def summary_model(trimmed_text):\n",
        "  contents = pipeline('summarization', model = \"Falconsai/text_summarization\")\n",
        "  summarised_text = contents(trimmed_text, min_length = 70)[0]\n",
        "  return summarised_text['summary_text']"
      ],
      "metadata": {
        "id": "lV9rcfd4EGve"
      },
      "execution_count": 8,
      "outputs": []
    },
    {
      "cell_type": "markdown",
      "source": [
        "## En-Ru translation model start-up"
      ],
      "metadata": {
        "id": "GiAqR0QBLR1U"
      }
    },
    {
      "cell_type": "code",
      "source": [
        "def model_loading():\n",
        "  classifier = pipeline(\"translation_en_to_ru\", model = \"Helsinki-NLP/opus-mt-en-ru\")\n",
        "  return classifier"
      ],
      "metadata": {
        "id": "IrioyqgaGJrr"
      },
      "execution_count": 9,
      "outputs": []
    },
    {
      "cell_type": "code",
      "source": [
        "def translation(classifier, summary):\n",
        "  sentences = summary.split('. ')\n",
        "  translated_sentences = [classifier(sentence)[0]['translation_text'] for sentence in sentences]\n",
        "  return '. '.join(translated_sentences)"
      ],
      "metadata": {
        "id": "vLlHh29mILVU"
      },
      "execution_count": 17,
      "outputs": []
    },
    {
      "cell_type": "code",
      "source": [
        "def printing(translated):\n",
        "  output_file = '/content/processed_text.txt'\n",
        "  with open(output_file, 'w') as file:\n",
        "    file.write(translated)"
      ],
      "metadata": {
        "id": "XG7az3gcOhzU"
      },
      "execution_count": 11,
      "outputs": []
    },
    {
      "cell_type": "code",
      "source": [
        "def file_preprocessing(filename):\n",
        "    file_content = filetype_recognition(filename)\n",
        "    return file_content.rstrip()"
      ],
      "metadata": {
        "id": "3FU8sBkVA6QN"
      },
      "execution_count": 12,
      "outputs": []
    },
    {
      "cell_type": "code",
      "source": [
        "def main():\n",
        "  try:\n",
        "    content = file_preprocessing(filename)\n",
        "    classifier = model_loading()\n",
        "    trimmed_text = trim_text_to_token_limit(content)\n",
        "    summary = summary_model(trimmed_text)\n",
        "    #prompt = input(\"Choose whether you want to translate the text:\")\n",
        "    prediction = translation(classifier, summary)\n",
        "    printing(prediction)\n",
        "\n",
        "  except ValueError as ve:\n",
        "    print(ve)\n",
        "    return\n",
        "\n",
        "if __name__ == \"__main__\":\n",
        "    main()"
      ],
      "metadata": {
        "id": "iel3fChfG3VS"
      },
      "execution_count": null,
      "outputs": []
    },
    {
      "cell_type": "code",
      "source": [
        "main()"
      ],
      "metadata": {
        "id": "YiTwN00rxM0W"
      },
      "execution_count": null,
      "outputs": []
    }
  ]
}