{
  "nbformat": 4,
  "nbformat_minor": 0,
  "metadata": {
    "colab": {
      "provenance": [],
      "toc_visible": true,
      "authorship_tag": "ABX9TyMPjLp+eOJ9E/gEam10/Ebo",
      "include_colab_link": true
    },
    "kernelspec": {
      "name": "python3",
      "display_name": "Python 3"
    },
    "language_info": {
      "name": "python"
    }
  },
  "cells": [
    {
      "cell_type": "markdown",
      "metadata": {
        "id": "view-in-github",
        "colab_type": "text"
      },
      "source": [
        "<a href=\"https://colab.research.google.com/github/MD-Daniel99/Projects/blob/main/Json_Pandas.ipynb\" target=\"_parent\"><img src=\"https://colab.research.google.com/assets/colab-badge.svg\" alt=\"Open In Colab\"/></a>"
      ]
    },
    {
      "cell_type": "code",
      "execution_count": 106,
      "metadata": {
        "id": "CnJb9lVxYY2U"
      },
      "outputs": [],
      "source": [
        "import pandas as pd\n",
        "import numpy\n",
        "import json\n",
        "from pprint import pprint"
      ]
    },
    {
      "cell_type": "markdown",
      "source": [
        "Десериализаыия файла JSON:"
      ],
      "metadata": {
        "id": "-IB1YYX4Z5Gx"
      }
    },
    {
      "cell_type": "code",
      "source": [
        "with open(\"recipes.json\") as f: # Открываем файл и связываем его с объектом \"f\"\n",
        "  recipes = json.load(f)\n",
        "\n",
        "recipes\n",
        "pprint(recipes)"
      ],
      "metadata": {
        "id": "qB3o9XzMZEzz"
      },
      "execution_count": null,
      "outputs": []
    },
    {
      "cell_type": "code",
      "source": [
        "ing = recipes[0]['id']\n",
        "ing"
      ],
      "metadata": {
        "colab": {
          "base_uri": "https://localhost:8080/"
        },
        "id": "9shTDzRHaHnF",
        "outputId": "f565e85b-c39c-4e91-b411-6b6f2250f58d"
      },
      "execution_count": 12,
      "outputs": [
        {
          "output_type": "execute_result",
          "data": {
            "text/plain": [
              "10259"
            ]
          },
          "metadata": {},
          "execution_count": 12
        }
      ]
    },
    {
      "cell_type": "code",
      "source": [
        "\n",
        "for Id in recipes:\n",
        "  if Id['id'] == 13121:\n",
        "    print(Id['cuisine'])\n",
        "    break\n"
      ],
      "metadata": {
        "colab": {
          "base_uri": "https://localhost:8080/"
        },
        "id": "aBblo70mabKB",
        "outputId": "eb6e82ad-4940-4c4f-9fad-0c876a0525b5"
      },
      "execution_count": 29,
      "outputs": [
        {
          "output_type": "stream",
          "name": "stdout",
          "text": [
            "thai\n"
          ]
        }
      ]
    },
    {
      "cell_type": "code",
      "source": [
        "thai = set()\n",
        "for d in recipes:\n",
        "  thai.add(d['cuisine'])\n",
        "len(thai)\n",
        "recipes"
      ],
      "metadata": {
        "id": "akot5Wxlfc6U"
      },
      "execution_count": null,
      "outputs": []
    },
    {
      "cell_type": "code",
      "source": [
        "cuisine_counts = {}\n",
        "max_recipes = 0\n",
        "max_dish = None\n",
        "\n",
        "for dish in recipes:\n",
        "    cuisine = dish['cuisine']\n",
        "    if cuisine in cuisine_counts:\n",
        "        cuisine_counts[cuisine] += 1\n",
        "    else:\n",
        "        cuisine_counts[cuisine] = 1\n",
        "\n",
        "    if cuisine_counts[cuisine] > max_recipes:\n",
        "        max_recipes = cuisine_counts[cuisine]\n",
        "        max_dish = cuisine"
      ],
      "metadata": {
        "id": "TLK81NIC0gdk"
      },
      "execution_count": null,
      "outputs": []
    },
    {
      "cell_type": "code",
      "source": [
        "df = pd.DataFrame(recipes) # или: df = pd.read_json('recipes.json')\n",
        "\n",
        "df_copy = df.copy()"
      ],
      "metadata": {
        "id": "WiyO0aOz21Is"
      },
      "execution_count": 194,
      "outputs": []
    },
    {
      "cell_type": "code",
      "source": [
        "ingredients = df.iloc[:, 2]\n",
        "ingredients_list = list(ingredients)\n",
        "unique_ingredients = []\n",
        "counter = 0\n",
        "\n",
        "for ing_list in ingredients:\n",
        "  for ingredient in ing_list:\n",
        "    if ingredient not in unique_ingredients:\n",
        "      unique_ingredients.append(ingredient)\n",
        "      counter += 1\n",
        "\n",
        "df_copy = df.copy()\n",
        "\n",
        "def fill_values(ingredients_list):\n",
        "    if ingredient_name in ingredients_list:\n",
        "        return 1\n",
        "    else:\n",
        "        return 0\n",
        "\n",
        "for ingredient_name in unique_ingredients:\n",
        "    df_copy[ingredient_name] = df_copy['ingredients'].apply(fill_values)\n",
        "\n",
        "df_copy['ingredients'] = df_copy['ingredients'].apply(len)\n",
        "df_copy.to_csv('fuckin_cuisine.csv', index = False)"
      ],
      "metadata": {
        "id": "gRyE4gYdG06D"
      },
      "execution_count": 219,
      "outputs": []
    },
    {
      "cell_type": "code",
      "source": [],
      "metadata": {
        "id": "gm15KhZ1RSs5"
      },
      "execution_count": null,
      "outputs": []
    }
  ]
}