{
  "nbformat": 4,
  "nbformat_minor": 0,
  "metadata": {
    "colab": {
      "provenance": [],
      "authorship_tag": "ABX9TyO/a4Ioa+1IKIvmzdLYebdr",
      "include_colab_link": true
    },
    "kernelspec": {
      "name": "python3",
      "display_name": "Python 3"
    },
    "language_info": {
      "name": "python"
    }
  },
  "cells": [
    {
      "cell_type": "markdown",
      "metadata": {
        "id": "view-in-github",
        "colab_type": "text"
      },
      "source": [
        "<a href=\"https://colab.research.google.com/github/MD-Daniel99/Projects/blob/main/team_project.ipynb\" target=\"_parent\"><img src=\"https://colab.research.google.com/assets/colab-badge.svg\" alt=\"Open In Colab\"/></a>"
      ]
    },
    {
      "cell_type": "code",
      "execution_count": null,
      "metadata": {
        "id": "8AfzgYfC7TCd"
      },
      "outputs": [],
      "source": [
        "!pip3 install sentencepiece\n",
        "!pip3 install sacremoses\n",
        "!pip3 install transformers\n",
        "!pip install --upgrade python-docx\n",
        "!pip install --upgrade pdfminer.six\n",
        "\n",
        "from docx import Document\n",
        "from pdfminer.high_level import extract_text\n",
        "from transformers import pipeline"
      ]
    },
    {
      "cell_type": "markdown",
      "source": [
        "## File type recognition"
      ],
      "metadata": {
        "id": "6oFlgd-KHjin"
      }
    },
    {
      "cell_type": "code",
      "source": [
        "def filetype_recognition(filename):\n",
        "  if filename.lower().endswith('.docx'):\n",
        "    return docx_reader(filename)\n",
        "  elif filename.lower().endswith('.pdf'):\n",
        "    return pdf_reader(filename)\n",
        "  else:\n",
        "    raise ValueError(\"Unsupported file format\")"
      ],
      "metadata": {
        "id": "VFBRpaEhHkKQ"
      },
      "execution_count": 2,
      "outputs": []
    },
    {
      "cell_type": "markdown",
      "source": [
        "## .docx reader"
      ],
      "metadata": {
        "id": "bjT3sqHDETqA"
      }
    },
    {
      "cell_type": "code",
      "source": [
        "def docx_reader(filename):\n",
        "  doc = Document(filename)\n",
        "  text = \"\\n\".join([paragraph.text for paragraph in doc.paragraphs])\n",
        "  str(text)\n",
        "  return text"
      ],
      "metadata": {
        "id": "jGYGVbX2WA0Q"
      },
      "execution_count": 3,
      "outputs": []
    },
    {
      "cell_type": "markdown",
      "source": [
        "## .pdf reader\n"
      ],
      "metadata": {
        "id": "iwMn0UH4EZQL"
      }
    },
    {
      "cell_type": "code",
      "source": [
        "def pdf_reader(filename):\n",
        "  text = extract_text(filename)\n",
        "  str(text)\n",
        "  return text"
      ],
      "metadata": {
        "id": "ZCn2rs_0EgB2"
      },
      "execution_count": 4,
      "outputs": []
    },
    {
      "cell_type": "markdown",
      "source": [
        "## En-Ru translation model start-up"
      ],
      "metadata": {
        "id": "GiAqR0QBLR1U"
      }
    },
    {
      "cell_type": "code",
      "source": [
        "def model_loading():\n",
        "  classifier = pipeline(\"translation_en_to_ru\", model = \"Helsinki-NLP/opus-mt-en-ru\")\n",
        "  return classifier"
      ],
      "metadata": {
        "id": "IrioyqgaGJrr"
      },
      "execution_count": 5,
      "outputs": []
    },
    {
      "cell_type": "code",
      "source": [
        "def translation(classifier, content):\n",
        "  sentences = content.split('. ')\n",
        "  translated_sentences = [classifier(sentence)[0]['translation_text'] for sentence in sentences]\n",
        "  return ' '.join(translated_sentences)"
      ],
      "metadata": {
        "id": "vLlHh29mILVU"
      },
      "execution_count": 69,
      "outputs": []
    },
    {
      "cell_type": "code",
      "source": [
        "def printing(translated):\n",
        "  output_file = '/content/translation_file.txt'\n",
        "  #translated_to_string = str(translated)\n",
        "  with open(output_file, 'w') as file:\n",
        "    file.write(translated)"
      ],
      "metadata": {
        "id": "XG7az3gcOhzU"
      },
      "execution_count": 7,
      "outputs": []
    },
    {
      "cell_type": "code",
      "source": [
        "def file_preprocessing():\n",
        "  filename = \"/content/Medical_and_tec_advances.docx\"\n",
        "  try:\n",
        "    file_content = filetype_recognition(filename)\n",
        "    return file_content.rstrip()\n",
        "  except ValueError as v_e:\n",
        "    print(v_e)"
      ],
      "metadata": {
        "id": "3FU8sBkVA6QN"
      },
      "execution_count": 71,
      "outputs": []
    },
    {
      "cell_type": "code",
      "source": [
        "content = file_preprocessing()\n",
        "classifier = model_loading()\n",
        "prediction = translation(classifier, content)\n",
        "printing(prediction)"
      ],
      "metadata": {
        "id": "iel3fChfG3VS"
      },
      "execution_count": 72,
      "outputs": []
    }
  ]
}